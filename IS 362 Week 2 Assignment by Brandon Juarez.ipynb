{
 "cells": [
  {
   "cell_type": "markdown",
   "id": "f0167e3e",
   "metadata": {},
   "source": [
    "The Zip() Function - Anime Version\n",
    "\n",
    "I will be using the zip function with various Anime characters and mockup power levels. If you're an anime fan, please take no offense as this is purely meant to show the zip function itself.\n",
    "\n",
    "I will be showing the basic zip function, creating dictionaries from zipped data and uneven lists."
   ]
  },
  {
   "cell_type": "code",
   "execution_count": 1,
   "id": "01492796",
   "metadata": {},
   "outputs": [
    {
     "name": "stdout",
     "output_type": "stream",
     "text": [
      "[('Goku', 9000), ('Naruto', 8500), ('Luffy', 8700), ('Ichigo', 8800)]\n"
     ]
    }
   ],
   "source": [
    "characters = [\"Goku\", \"Naruto\", \"Luffy\", \"Ichigo\"]\n",
    "power_levels = [9000, 8500, 8700, 8800]\n",
    "\n",
    "paired = zip(characters, power_levels)\n",
    "print(list(paired)) "
   ]
  },
  {
   "cell_type": "markdown",
   "id": "a6d5884c",
   "metadata": {},
   "source": [
    "As seen above, all characters are paired with their power levels. The zip function creates records of corresponding elements, which are then converted to a list."
   ]
  },
  {
   "cell_type": "code",
   "execution_count": 2,
   "id": "61811c5b",
   "metadata": {},
   "outputs": [
    {
     "name": "stdout",
     "output_type": "stream",
     "text": [
      "{'Goku': 9000, 'Naruto': 8500, 'Luffy': 8700, 'Ichigo': 8800}\n"
     ]
    }
   ],
   "source": [
    "characters = [\"Goku\", \"Naruto\", \"Luffy\", \"Ichigo\"]\n",
    "power_levels = [9000, 8500, 8700, 8800]\n",
    "\n",
    "power_dict = dict(zip(characters, power_levels))\n",
    "print(power_dict)"
   ]
  },
  {
   "cell_type": "markdown",
   "id": "077671b1",
   "metadata": {},
   "source": [
    "This dictionary maps each character to their power level. This is a great way to organize data for better visual appeal."
   ]
  },
  {
   "cell_type": "code",
   "execution_count": 3,
   "id": "beb502ba",
   "metadata": {},
   "outputs": [
    {
     "name": "stdout",
     "output_type": "stream",
     "text": [
      "[('Goku', 9000), ('Naruto', 8500), ('Luffy', 8700)]\n"
     ]
    }
   ],
   "source": [
    "characters = [\"Goku\", \"Naruto\", \"Luffy\"]\n",
    "power_levels = [9000, 8500, 8700, 8800]\n",
    "\n",
    "print(list(zip(characters, power_levels)))"
   ]
  },
  {
   "cell_type": "markdown",
   "id": "b94ae4f6",
   "metadata": {},
   "source": [
    "The zip function is an excellent and valuable tool for combining data. Whether it's anime data or anything else with information, it will always keep things organized.\n",
    "\n",
    "If you have an unequal amount of data for lists, remember it always zips to the shortest length."
   ]
  }
 ],
 "metadata": {
  "kernelspec": {
   "display_name": "Python 3",
   "language": "python",
   "name": "python3"
  },
  "language_info": {
   "codemirror_mode": {
    "name": "ipython",
    "version": 3
   },
   "file_extension": ".py",
   "mimetype": "text/x-python",
   "name": "python",
   "nbconvert_exporter": "python",
   "pygments_lexer": "ipython3",
   "version": "3.8.10"
  }
 },
 "nbformat": 4,
 "nbformat_minor": 5
}
