{
 "cells": [
  {
   "cell_type": "markdown",
   "id": "e8c9a9a3",
   "metadata": {},
   "source": [
    "Task #1"
   ]
  },
  {
   "cell_type": "code",
   "execution_count": 21,
   "id": "8f41e4eb",
   "metadata": {},
   "outputs": [
    {
     "data": {
      "text/html": [
       "<div>\n",
       "<style scoped>\n",
       "    .dataframe tbody tr th:only-of-type {\n",
       "        vertical-align: middle;\n",
       "    }\n",
       "\n",
       "    .dataframe tbody tr th {\n",
       "        vertical-align: top;\n",
       "    }\n",
       "\n",
       "    .dataframe thead th {\n",
       "        text-align: right;\n",
       "    }\n",
       "</style>\n",
       "<table border=\"1\" class=\"dataframe\">\n",
       "  <thead>\n",
       "    <tr style=\"text-align: right;\">\n",
       "      <th></th>\n",
       "      <th>faa</th>\n",
       "      <th>name</th>\n",
       "      <th>lat</th>\n",
       "      <th>lon</th>\n",
       "    </tr>\n",
       "  </thead>\n",
       "  <tbody>\n",
       "    <tr>\n",
       "      <th>417</th>\n",
       "      <td>EEN</td>\n",
       "      <td>Dillant Hopkins Airport</td>\n",
       "      <td>72.270833</td>\n",
       "      <td>42.898333</td>\n",
       "    </tr>\n",
       "    <tr>\n",
       "      <th>230</th>\n",
       "      <td>BRW</td>\n",
       "      <td>Wiley Post Will Rogers Mem</td>\n",
       "      <td>71.285446</td>\n",
       "      <td>-156.766003</td>\n",
       "    </tr>\n",
       "    <tr>\n",
       "      <th>110</th>\n",
       "      <td>AIN</td>\n",
       "      <td>Wainwright Airport</td>\n",
       "      <td>70.638056</td>\n",
       "      <td>-159.994722</td>\n",
       "    </tr>\n",
       "    <tr>\n",
       "      <th>708</th>\n",
       "      <td>K03</td>\n",
       "      <td>Wainwright As</td>\n",
       "      <td>70.613378</td>\n",
       "      <td>-159.860350</td>\n",
       "    </tr>\n",
       "    <tr>\n",
       "      <th>152</th>\n",
       "      <td>ATK</td>\n",
       "      <td>Atqasuk Edward Burnell Sr Memorial Airport</td>\n",
       "      <td>70.467300</td>\n",
       "      <td>-157.436000</td>\n",
       "    </tr>\n",
       "  </tbody>\n",
       "</table>\n",
       "</div>"
      ],
      "text/plain": [
       "     faa                                        name        lat         lon\n",
       "417  EEN                     Dillant Hopkins Airport  72.270833   42.898333\n",
       "230  BRW                  Wiley Post Will Rogers Mem  71.285446 -156.766003\n",
       "110  AIN                          Wainwright Airport  70.638056 -159.994722\n",
       "708  K03                               Wainwright As  70.613378 -159.860350\n",
       "152  ATK  Atqasuk Edward Burnell Sr Memorial Airport  70.467300 -157.436000"
      ]
     },
     "execution_count": 21,
     "metadata": {},
     "output_type": "execute_result"
    }
   ],
   "source": [
    "import pandas as pd\n",
    "\n",
    "airports = pd.read_csv('https://raw.githubusercontent.com/hadley/nycflights13/master/data-raw/airports.csv')\n",
    "weather = pd.read_csv('https://raw.githubusercontent.com/hadley/nycflights13/master/data-raw/weather.csv')\n",
    "\n",
    "airports['lat'].isnull().sum()\n",
    "northernmost = airports.sort_values(by='lat', ascending=False).head(5)\n",
    "northernmost[['faa', 'name', 'lat', 'lon']]"
   ]
  },
  {
   "cell_type": "markdown",
   "id": "dd9f5e9f",
   "metadata": {},
   "source": [
    "Based on the dataset provided in airports.csv, the northernmost airport is Dillant-Hopkins Airport (EEN), which appears with a latitude of 72.3° N. This result was determined by sorting the dataset in descending order by latitude and selecting the top entry. No latitude values were missing or required cleaning, and the analysis was performed without filtering by state or region. The result reflects the internal structure of the dataset rather than verified geographic positioning."
   ]
  },
  {
   "cell_type": "markdown",
   "id": "4a6a91a1",
   "metadata": {},
   "source": [
    "Task #2"
   ]
  },
  {
   "cell_type": "code",
   "execution_count": 22,
   "id": "1f956763",
   "metadata": {},
   "outputs": [
    {
     "data": {
      "text/html": [
       "<div>\n",
       "<style scoped>\n",
       "    .dataframe tbody tr th:only-of-type {\n",
       "        vertical-align: middle;\n",
       "    }\n",
       "\n",
       "    .dataframe tbody tr th {\n",
       "        vertical-align: top;\n",
       "    }\n",
       "\n",
       "    .dataframe thead th {\n",
       "        text-align: right;\n",
       "    }\n",
       "</style>\n",
       "<table border=\"1\" class=\"dataframe\">\n",
       "  <thead>\n",
       "    <tr style=\"text-align: right;\">\n",
       "      <th></th>\n",
       "      <th>faa</th>\n",
       "      <th>name</th>\n",
       "      <th>lat</th>\n",
       "      <th>lon</th>\n",
       "    </tr>\n",
       "  </thead>\n",
       "  <tbody>\n",
       "    <tr>\n",
       "      <th>1290</th>\n",
       "      <td>SYA</td>\n",
       "      <td>Eareckson As</td>\n",
       "      <td>52.712275</td>\n",
       "      <td>174.113620</td>\n",
       "    </tr>\n",
       "    <tr>\n",
       "      <th>942</th>\n",
       "      <td>MYF</td>\n",
       "      <td>Montgomery Field</td>\n",
       "      <td>32.475900</td>\n",
       "      <td>117.759000</td>\n",
       "    </tr>\n",
       "    <tr>\n",
       "      <th>396</th>\n",
       "      <td>DVT</td>\n",
       "      <td>Deer Valley Municipal Airport</td>\n",
       "      <td>33.411700</td>\n",
       "      <td>112.457000</td>\n",
       "    </tr>\n",
       "    <tr>\n",
       "      <th>417</th>\n",
       "      <td>EEN</td>\n",
       "      <td>Dillant Hopkins Airport</td>\n",
       "      <td>72.270833</td>\n",
       "      <td>42.898333</td>\n",
       "    </tr>\n",
       "    <tr>\n",
       "      <th>444</th>\n",
       "      <td>EPM</td>\n",
       "      <td>Eastport Municipal Airport</td>\n",
       "      <td>44.910111</td>\n",
       "      <td>-67.012694</td>\n",
       "    </tr>\n",
       "  </tbody>\n",
       "</table>\n",
       "</div>"
      ],
      "text/plain": [
       "      faa                           name        lat         lon\n",
       "1290  SYA                   Eareckson As  52.712275  174.113620\n",
       "942   MYF               Montgomery Field  32.475900  117.759000\n",
       "396   DVT  Deer Valley Municipal Airport  33.411700  112.457000\n",
       "417   EEN        Dillant Hopkins Airport  72.270833   42.898333\n",
       "444   EPM     Eastport Municipal Airport  44.910111  -67.012694"
      ]
     },
     "execution_count": 22,
     "metadata": {},
     "output_type": "execute_result"
    }
   ],
   "source": [
    "airports['lon'].isnull().sum()\n",
    "easternmost = airports.sort_values(by='lon', ascending=False).head(5)\n",
    "easternmost[['faa', 'name', 'lat', 'lon']]"
   ]
  },
  {
   "cell_type": "markdown",
   "id": "cbd6e521",
   "metadata": {},
   "source": [
    "According to the dataset, the easternmost airport is Eareckson AS (SYA), which has a longitude of 174.11 . This was determined by sorting the airports.csv file in descending order by longitude, since less negative values indicate locations farther east. No longitude values were missing, and the analysis included all airports listed in the dataset, including those in U.S. territories. The result reflects the dataset’s internal coordinates and does not exclude overseas airports, as they are valid entries under the assignment’s scope."
   ]
  },
  {
   "cell_type": "markdown",
   "id": "10baf4d3",
   "metadata": {},
   "source": [
    "Task #3"
   ]
  },
  {
   "cell_type": "code",
   "execution_count": 19,
   "id": "adf99183",
   "metadata": {},
   "outputs": [
    {
     "name": "stdout",
     "output_type": "stream",
     "text": [
      "Max wind speeds on Feb 12, 2013:\n",
      "origin\n",
      "LGA    23.01560\n",
      "EWR    21.86482\n",
      "JFK    20.71404\n",
      "Name: wind_speed, dtype: float64\n"
     ]
    }
   ],
   "source": [
    "weather['date'] = pd.to_datetime(weather[['year', 'month', 'day']])\n",
    "\n",
    "feb12 = weather[weather['date'] == '2013-02-12']\n",
    "\n",
    "nyc_airports = ['JFK', 'LGA', 'EWR']\n",
    "feb12_nyc = feb12[feb12['origin'].isin(nyc_airports)]\n",
    "\n",
    "feb12_nyc_clean = feb12_nyc[feb12_nyc['wind_speed'] < 100]\n",
    "\n",
    "windiest = feb12_nyc_clean.groupby('origin')['wind_speed'].max().sort_values(ascending=False)\n",
    "print(\"Max wind speeds on Feb 12, 2013:\")\n",
    "print(windiest)"
   ]
  },
  {
   "cell_type": "markdown",
   "id": "35874bf4",
   "metadata": {},
   "source": [
    "On February 12th, 2013, the New York area airport with the highest recorded wind speed was LaGuardia Airport (LGA), with a maximum wind speed of 23.02 mph. This was determined by filtering the weather.csv file for that specific date and selecting only the three NYC airports: JFK, LGA, and EWR. The data was grouped by airport and the maximum wind speed was calculated for each. During the initial analysis, EWR showed a wind speed over 1000 mph, which was clearly a data error. To correct for this, any wind speed values above 100 mph were excluded from the final calculation. No interpolation or imputation was applied, and the dataset contained sufficient valid entries to support the result. This highlights the importance of checking for outliers when working with real-world data.\n"
   ]
  }
 ],
 "metadata": {
  "kernelspec": {
   "display_name": "Python 3",
   "language": "python",
   "name": "python3"
  },
  "language_info": {
   "codemirror_mode": {
    "name": "ipython",
    "version": 3
   },
   "file_extension": ".py",
   "mimetype": "text/x-python",
   "name": "python",
   "nbconvert_exporter": "python",
   "pygments_lexer": "ipython3",
   "version": "3.8.10"
  }
 },
 "nbformat": 4,
 "nbformat_minor": 5
}
