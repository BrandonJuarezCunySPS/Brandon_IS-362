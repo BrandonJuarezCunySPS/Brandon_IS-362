{
 "cells": [
  {
   "cell_type": "code",
   "execution_count": 1,
   "id": "215212e6",
   "metadata": {},
   "outputs": [
    {
     "data": {
      "text/html": [
       "<div>\n",
       "<style scoped>\n",
       "    .dataframe tbody tr th:only-of-type {\n",
       "        vertical-align: middle;\n",
       "    }\n",
       "\n",
       "    .dataframe tbody tr th {\n",
       "        vertical-align: top;\n",
       "    }\n",
       "\n",
       "    .dataframe thead th {\n",
       "        text-align: right;\n",
       "    }\n",
       "</style>\n",
       "<table border=\"1\" class=\"dataframe\">\n",
       "  <thead>\n",
       "    <tr style=\"text-align: right;\">\n",
       "      <th></th>\n",
       "      <th>Cumulative Miles</th>\n",
       "      <th>Daily Miles</th>\n",
       "    </tr>\n",
       "  </thead>\n",
       "  <tbody>\n",
       "    <tr>\n",
       "      <th>Day 1</th>\n",
       "      <td>55</td>\n",
       "      <td>55.0</td>\n",
       "    </tr>\n",
       "    <tr>\n",
       "      <th>Day 2</th>\n",
       "      <td>120</td>\n",
       "      <td>65.0</td>\n",
       "    </tr>\n",
       "    <tr>\n",
       "      <th>Day 3</th>\n",
       "      <td>190</td>\n",
       "      <td>70.0</td>\n",
       "    </tr>\n",
       "    <tr>\n",
       "      <th>Day 4</th>\n",
       "      <td>275</td>\n",
       "      <td>85.0</td>\n",
       "    </tr>\n",
       "    <tr>\n",
       "      <th>Day 5</th>\n",
       "      <td>365</td>\n",
       "      <td>90.0</td>\n",
       "    </tr>\n",
       "  </tbody>\n",
       "</table>\n",
       "</div>"
      ],
      "text/plain": [
       "       Cumulative Miles  Daily Miles\n",
       "Day 1                55         55.0\n",
       "Day 2               120         65.0\n",
       "Day 3               190         70.0\n",
       "Day 4               275         85.0\n",
       "Day 5               365         90.0"
      ]
     },
     "execution_count": 1,
     "metadata": {},
     "output_type": "execute_result"
    }
   ],
   "source": [
    "import pandas as pd\n",
    "import matplotlib.pyplot as plt\n",
    "\n",
    "cumulative_miles = pd.Series([55, 120, 190, 275, 365],\n",
    "                            index=['Day 1', 'Day 2', 'Day 3', 'Day 4', 'Day 5'])\n",
    "\n",
    "daily_miles = cumulative_miles.diff()\n",
    "daily_miles.iloc[0] = cumulative_miles.iloc[0]\n",
    "\n",
    "bike_log = pd.DataFrame({\n",
    "    'Cumulative Miles': cumulative_miles,\n",
    "    'Daily Miles': daily_miles\n",
    "})\n",
    "\n",
    "bike_log"
   ]
  },
  {
   "cell_type": "code",
   "execution_count": null,
   "id": "f820dcbb",
   "metadata": {},
   "outputs": [],
   "source": []
  }
 ],
 "metadata": {
  "kernelspec": {
   "display_name": "Python 3",
   "language": "python",
   "name": "python3"
  },
  "language_info": {
   "codemirror_mode": {
    "name": "ipython",
    "version": 3
   },
   "file_extension": ".py",
   "mimetype": "text/x-python",
   "name": "python",
   "nbconvert_exporter": "python",
   "pygments_lexer": "ipython3",
   "version": "3.8.10"
  }
 },
 "nbformat": 4,
 "nbformat_minor": 5
}
